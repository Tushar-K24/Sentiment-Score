{
  "nbformat": 4,
  "nbformat_minor": 0,
  "metadata": {
    "colab": {
      "provenance": [],
      "collapsed_sections": []
    },
    "kernelspec": {
      "name": "python3",
      "display_name": "Python 3"
    },
    "language_info": {
      "name": "python"
    },
    "accelerator": "GPU",
    "gpuClass": "standard"
  },
  "cells": [
    {
      "cell_type": "code",
      "execution_count": 21,
      "metadata": {
        "id": "gH7ZwnPHN4lF",
        "colab": {
          "base_uri": "https://localhost:8080/"
        },
        "outputId": "1a3b1690-7b43-43e1-eaa5-7b4d9bdc135c"
      },
      "outputs": [
        {
          "output_type": "stream",
          "name": "stdout",
          "text": [
            "Drive already mounted at /content/drive; to attempt to forcibly remount, call drive.mount(\"/content/drive\", force_remount=True).\n"
          ]
        }
      ],
      "source": [
        "from google.colab import drive\n",
        "drive.mount('/content/drive')"
      ]
    },
    {
      "cell_type": "code",
      "source": [
        "# !pip install sentence-transformers\n",
        "# !pip install contractions\n",
        "# !pip install gibberish_detector"
      ],
      "metadata": {
        "id": "4SaBfpWROGYf"
      },
      "execution_count": 22,
      "outputs": []
    },
    {
      "cell_type": "code",
      "source": [
        "import re\n",
        "from tqdm import tqdm\n",
        "\n",
        "import numpy as np\n",
        "import pandas as pd\n",
        "import matplotlib.pyplot as plt\n",
        "\n",
        "from sklearn.model_selection import train_test_split\n",
        "from sklearn.feature_extraction.text import TfidfVectorizer, CountVectorizer\n",
        "from sklearn.metrics import confusion_matrix, plot_confusion_matrix\n",
        "\n",
        "import nltk\n",
        "from nltk.stem import WordNetLemmatizer, PorterStemmer\n",
        "from nltk.corpus import stopwords\n",
        "from nltk.corpus import wordnet as wn\n",
        "from nltk.tokenize import word_tokenize,sent_tokenize\n",
        "\n",
        "import contractions\n",
        "from gibberish_detector import detector\n",
        "\n",
        "import pkg_resources\n",
        "import itertools\n",
        "\n",
        "from sentence_transformers import SentenceTransformer\n",
        "model = SentenceTransformer('all-MiniLM-L6-v2')\n",
        "nltk.download('wordnet')\n",
        "nltk.download('omw-1.4')\n",
        "nltk.download('stopwords')\n",
        "nltk.download('punkt')\n",
        "\n",
        "Detector = detector.create_from_model('/content/drive/MyDrive/Sentiment_Analysis/gibberish-detector.model')"
      ],
      "metadata": {
        "id": "w9cQi_GyOJJZ",
        "colab": {
          "base_uri": "https://localhost:8080/"
        },
        "outputId": "f069c410-fe6b-43c5-a262-7b528e52450c"
      },
      "execution_count": 23,
      "outputs": [
        {
          "output_type": "stream",
          "name": "stderr",
          "text": [
            "[nltk_data] Downloading package wordnet to /root/nltk_data...\n",
            "[nltk_data]   Package wordnet is already up-to-date!\n",
            "[nltk_data] Downloading package omw-1.4 to /root/nltk_data...\n",
            "[nltk_data]   Package omw-1.4 is already up-to-date!\n",
            "[nltk_data] Downloading package stopwords to /root/nltk_data...\n",
            "[nltk_data]   Package stopwords is already up-to-date!\n",
            "[nltk_data] Downloading package punkt to /root/nltk_data...\n",
            "[nltk_data]   Package punkt is already up-to-date!\n"
          ]
        }
      ]
    },
    {
      "cell_type": "code",
      "source": [
        "df1 = pd.read_csv('/content/drive/MyDrive/Reviews_data/labelled_reviews/training/EMICalculatorFinanceTool_90days.csv')\n",
        "df2 = pd.read_csv('/content/drive/MyDrive/Reviews_data/labelled_reviews/training/FinancialCalculatorforGST_90days.csv')\n",
        "df3 = pd.read_csv('/content/drive/MyDrive/Reviews_data/labelled_reviews/training/HugeDigitalClock_90days.csv')\n",
        "df4 = pd.read_csv('/content/drive/MyDrive/Reviews_data/labelled_reviews/training/CloneArmiesBattleGame_90days.csv')\n",
        "df5 = pd.read_csv('/content/drive/MyDrive/Reviews_data/labelled_reviews/training/HindiEnglishTranslator_90days.csv', encoding = 'ISO-8859-1')\n",
        "df = df3.append(df4)\n",
        "df = df.append(df5)\n",
        "df['content'] = df['en_content'].tolist()\n",
        "df.drop(['en_content'], axis=1, inplace=True)\n",
        "\n",
        "df = df.append(df1)\n",
        "df = df.append(df2)\n",
        "df = df.fillna(0)\n",
        "df.sort_values(by = 'thumbsUpCount', ascending=False, inplace=True)\n",
        "imp_reviews = df[df['thumbsUpCount']>0].drop_duplicates()\n",
        "\n",
        "print(len(df), len(imp_reviews))"
      ],
      "metadata": {
        "id": "hi89huy2OUv4",
        "colab": {
          "base_uri": "https://localhost:8080/"
        },
        "outputId": "78e28406-7fa0-4283-e4c6-e8c60311cca3"
      },
      "execution_count": 24,
      "outputs": [
        {
          "output_type": "stream",
          "name": "stdout",
          "text": [
            "3379 558\n"
          ]
        }
      ]
    },
    {
      "cell_type": "markdown",
      "source": [
        "# Convert reviews to vectors"
      ],
      "metadata": {
        "id": "-KkwO8z3PPI7"
      }
    },
    {
      "cell_type": "code",
      "source": [
        "labels = ['Functionality', 'User Experience', 'Performance', 'Customer Support', 'Subscription', 'Feature Request']"
      ],
      "metadata": {
        "id": "J7GlcNusPQZB"
      },
      "execution_count": 25,
      "outputs": []
    },
    {
      "cell_type": "code",
      "source": [
        "df.head()"
      ],
      "metadata": {
        "id": "ePwoPTlmPS3j",
        "colab": {
          "base_uri": "https://localhost:8080/",
          "height": 721
        },
        "outputId": "6c561a63-a755-4b5e-9563-99979f315794"
      },
      "execution_count": 26,
      "outputs": [
        {
          "output_type": "execute_result",
          "data": {
            "text/plain": [
              "                                 reviewId                       userName  \\\n",
              "50   acf11feb-d690-4b0f-acc6-054e29c9ada3                   Aditi Sarkar   \n",
              "147  3a2384e3-e7e2-472a-b5c1-c3ff528365f2              Madhavi Choudhary   \n",
              "107  430e0c64-0b20-4389-9001-657ed93e63b4                  Manoj Anthwal   \n",
              "106  44b8296b-9913-49d9-b640-39e20210350a                     Khushi Jat   \n",
              "6    fdf9e272-4de5-4c03-b5f9-2403caf4c5f8  Arvind Goswami Arvind Goswami   \n",
              "\n",
              "                                             userImage  \\\n",
              "50   https://play-lh.googleusercontent.com/a-/AFdZu...   \n",
              "147  https://play-lh.googleusercontent.com/a/AItbvm...   \n",
              "107  https://play-lh.googleusercontent.com/a/AItbvm...   \n",
              "106  https://play-lh.googleusercontent.com/a/AItbvm...   \n",
              "6    https://play-lh.googleusercontent.com/a/AItbvm...   \n",
              "\n",
              "                                               content  rating  thumbsUpCount  \\\n",
              "50   I had no options when I had to translate langu...       5           1123   \n",
              "147  This app is good for translation of language. ...       4            715   \n",
              "107  I rate this app 4 star because I like this app...       4            659   \n",
              "106  Although the app is amazing but the multi lang...       3            333   \n",
              "6    Sir this app should also have a function to fi...       5            281   \n",
              "\n",
              "     Functionality  User Experience  Performance  Customer Support  \\\n",
              "50             0.0              1.0          0.0               0.0   \n",
              "147            0.0              0.0          0.0               0.0   \n",
              "107            0.0              0.0          1.0               0.0   \n",
              "106            0.0              0.0          1.0               0.0   \n",
              "6              0.0              0.0          0.0               0.0   \n",
              "\n",
              "     Subscription  Feature Request  Funtionality  \n",
              "50            0.0              0.0           1.0  \n",
              "147           0.0              0.0           1.0  \n",
              "107           0.0              1.0           1.0  \n",
              "106           0.0              1.0           0.0  \n",
              "6             0.0              1.0           0.0  "
            ],
            "text/html": [
              "\n",
              "  <div id=\"df-f3da8a83-f2d3-470b-8014-9db8758cbbba\">\n",
              "    <div class=\"colab-df-container\">\n",
              "      <div>\n",
              "<style scoped>\n",
              "    .dataframe tbody tr th:only-of-type {\n",
              "        vertical-align: middle;\n",
              "    }\n",
              "\n",
              "    .dataframe tbody tr th {\n",
              "        vertical-align: top;\n",
              "    }\n",
              "\n",
              "    .dataframe thead th {\n",
              "        text-align: right;\n",
              "    }\n",
              "</style>\n",
              "<table border=\"1\" class=\"dataframe\">\n",
              "  <thead>\n",
              "    <tr style=\"text-align: right;\">\n",
              "      <th></th>\n",
              "      <th>reviewId</th>\n",
              "      <th>userName</th>\n",
              "      <th>userImage</th>\n",
              "      <th>content</th>\n",
              "      <th>rating</th>\n",
              "      <th>thumbsUpCount</th>\n",
              "      <th>Functionality</th>\n",
              "      <th>User Experience</th>\n",
              "      <th>Performance</th>\n",
              "      <th>Customer Support</th>\n",
              "      <th>Subscription</th>\n",
              "      <th>Feature Request</th>\n",
              "      <th>Funtionality</th>\n",
              "    </tr>\n",
              "  </thead>\n",
              "  <tbody>\n",
              "    <tr>\n",
              "      <th>50</th>\n",
              "      <td>acf11feb-d690-4b0f-acc6-054e29c9ada3</td>\n",
              "      <td>Aditi Sarkar</td>\n",
              "      <td>https://play-lh.googleusercontent.com/a-/AFdZu...</td>\n",
              "      <td>I had no options when I had to translate langu...</td>\n",
              "      <td>5</td>\n",
              "      <td>1123</td>\n",
              "      <td>0.0</td>\n",
              "      <td>1.0</td>\n",
              "      <td>0.0</td>\n",
              "      <td>0.0</td>\n",
              "      <td>0.0</td>\n",
              "      <td>0.0</td>\n",
              "      <td>1.0</td>\n",
              "    </tr>\n",
              "    <tr>\n",
              "      <th>147</th>\n",
              "      <td>3a2384e3-e7e2-472a-b5c1-c3ff528365f2</td>\n",
              "      <td>Madhavi Choudhary</td>\n",
              "      <td>https://play-lh.googleusercontent.com/a/AItbvm...</td>\n",
              "      <td>This app is good for translation of language. ...</td>\n",
              "      <td>4</td>\n",
              "      <td>715</td>\n",
              "      <td>0.0</td>\n",
              "      <td>0.0</td>\n",
              "      <td>0.0</td>\n",
              "      <td>0.0</td>\n",
              "      <td>0.0</td>\n",
              "      <td>0.0</td>\n",
              "      <td>1.0</td>\n",
              "    </tr>\n",
              "    <tr>\n",
              "      <th>107</th>\n",
              "      <td>430e0c64-0b20-4389-9001-657ed93e63b4</td>\n",
              "      <td>Manoj Anthwal</td>\n",
              "      <td>https://play-lh.googleusercontent.com/a/AItbvm...</td>\n",
              "      <td>I rate this app 4 star because I like this app...</td>\n",
              "      <td>4</td>\n",
              "      <td>659</td>\n",
              "      <td>0.0</td>\n",
              "      <td>0.0</td>\n",
              "      <td>1.0</td>\n",
              "      <td>0.0</td>\n",
              "      <td>0.0</td>\n",
              "      <td>1.0</td>\n",
              "      <td>1.0</td>\n",
              "    </tr>\n",
              "    <tr>\n",
              "      <th>106</th>\n",
              "      <td>44b8296b-9913-49d9-b640-39e20210350a</td>\n",
              "      <td>Khushi Jat</td>\n",
              "      <td>https://play-lh.googleusercontent.com/a/AItbvm...</td>\n",
              "      <td>Although the app is amazing but the multi lang...</td>\n",
              "      <td>3</td>\n",
              "      <td>333</td>\n",
              "      <td>0.0</td>\n",
              "      <td>0.0</td>\n",
              "      <td>1.0</td>\n",
              "      <td>0.0</td>\n",
              "      <td>0.0</td>\n",
              "      <td>1.0</td>\n",
              "      <td>0.0</td>\n",
              "    </tr>\n",
              "    <tr>\n",
              "      <th>6</th>\n",
              "      <td>fdf9e272-4de5-4c03-b5f9-2403caf4c5f8</td>\n",
              "      <td>Arvind Goswami Arvind Goswami</td>\n",
              "      <td>https://play-lh.googleusercontent.com/a/AItbvm...</td>\n",
              "      <td>Sir this app should also have a function to fi...</td>\n",
              "      <td>5</td>\n",
              "      <td>281</td>\n",
              "      <td>0.0</td>\n",
              "      <td>0.0</td>\n",
              "      <td>0.0</td>\n",
              "      <td>0.0</td>\n",
              "      <td>0.0</td>\n",
              "      <td>1.0</td>\n",
              "      <td>0.0</td>\n",
              "    </tr>\n",
              "  </tbody>\n",
              "</table>\n",
              "</div>\n",
              "      <button class=\"colab-df-convert\" onclick=\"convertToInteractive('df-f3da8a83-f2d3-470b-8014-9db8758cbbba')\"\n",
              "              title=\"Convert this dataframe to an interactive table.\"\n",
              "              style=\"display:none;\">\n",
              "        \n",
              "  <svg xmlns=\"http://www.w3.org/2000/svg\" height=\"24px\"viewBox=\"0 0 24 24\"\n",
              "       width=\"24px\">\n",
              "    <path d=\"M0 0h24v24H0V0z\" fill=\"none\"/>\n",
              "    <path d=\"M18.56 5.44l.94 2.06.94-2.06 2.06-.94-2.06-.94-.94-2.06-.94 2.06-2.06.94zm-11 1L8.5 8.5l.94-2.06 2.06-.94-2.06-.94L8.5 2.5l-.94 2.06-2.06.94zm10 10l.94 2.06.94-2.06 2.06-.94-2.06-.94-.94-2.06-.94 2.06-2.06.94z\"/><path d=\"M17.41 7.96l-1.37-1.37c-.4-.4-.92-.59-1.43-.59-.52 0-1.04.2-1.43.59L10.3 9.45l-7.72 7.72c-.78.78-.78 2.05 0 2.83L4 21.41c.39.39.9.59 1.41.59.51 0 1.02-.2 1.41-.59l7.78-7.78 2.81-2.81c.8-.78.8-2.07 0-2.86zM5.41 20L4 18.59l7.72-7.72 1.47 1.35L5.41 20z\"/>\n",
              "  </svg>\n",
              "      </button>\n",
              "      \n",
              "  <style>\n",
              "    .colab-df-container {\n",
              "      display:flex;\n",
              "      flex-wrap:wrap;\n",
              "      gap: 12px;\n",
              "    }\n",
              "\n",
              "    .colab-df-convert {\n",
              "      background-color: #E8F0FE;\n",
              "      border: none;\n",
              "      border-radius: 50%;\n",
              "      cursor: pointer;\n",
              "      display: none;\n",
              "      fill: #1967D2;\n",
              "      height: 32px;\n",
              "      padding: 0 0 0 0;\n",
              "      width: 32px;\n",
              "    }\n",
              "\n",
              "    .colab-df-convert:hover {\n",
              "      background-color: #E2EBFA;\n",
              "      box-shadow: 0px 1px 2px rgba(60, 64, 67, 0.3), 0px 1px 3px 1px rgba(60, 64, 67, 0.15);\n",
              "      fill: #174EA6;\n",
              "    }\n",
              "\n",
              "    [theme=dark] .colab-df-convert {\n",
              "      background-color: #3B4455;\n",
              "      fill: #D2E3FC;\n",
              "    }\n",
              "\n",
              "    [theme=dark] .colab-df-convert:hover {\n",
              "      background-color: #434B5C;\n",
              "      box-shadow: 0px 1px 3px 1px rgba(0, 0, 0, 0.15);\n",
              "      filter: drop-shadow(0px 1px 2px rgba(0, 0, 0, 0.3));\n",
              "      fill: #FFFFFF;\n",
              "    }\n",
              "  </style>\n",
              "\n",
              "      <script>\n",
              "        const buttonEl =\n",
              "          document.querySelector('#df-f3da8a83-f2d3-470b-8014-9db8758cbbba button.colab-df-convert');\n",
              "        buttonEl.style.display =\n",
              "          google.colab.kernel.accessAllowed ? 'block' : 'none';\n",
              "\n",
              "        async function convertToInteractive(key) {\n",
              "          const element = document.querySelector('#df-f3da8a83-f2d3-470b-8014-9db8758cbbba');\n",
              "          const dataTable =\n",
              "            await google.colab.kernel.invokeFunction('convertToInteractive',\n",
              "                                                     [key], {});\n",
              "          if (!dataTable) return;\n",
              "\n",
              "          const docLinkHtml = 'Like what you see? Visit the ' +\n",
              "            '<a target=\"_blank\" href=https://colab.research.google.com/notebooks/data_table.ipynb>data table notebook</a>'\n",
              "            + ' to learn more about interactive tables.';\n",
              "          element.innerHTML = '';\n",
              "          dataTable['output_type'] = 'display_data';\n",
              "          await google.colab.output.renderOutput(dataTable, element);\n",
              "          const docLink = document.createElement('div');\n",
              "          docLink.innerHTML = docLinkHtml;\n",
              "          element.appendChild(docLink);\n",
              "        }\n",
              "      </script>\n",
              "    </div>\n",
              "  </div>\n",
              "  "
            ]
          },
          "metadata": {},
          "execution_count": 26
        }
      ]
    },
    {
      "cell_type": "code",
      "source": [
        "lemmatizer = WordNetLemmatizer()\n",
        "# stemmer = PorterStemmer()\n",
        "# adjectives = []\n",
        "# for synset in list(wn.all_synsets(wn.ADJ)):\n",
        "#     adjectives.extend(synset.lemma_names())\n",
        "\n",
        "# stop_words = set(stopwords.words('english'))\n",
        "# stop_words = stop_words.union(adjectives)\n",
        "\n",
        "# adjectives = ['good', 'bad', 'worst', 'nice', 'best', 'very', 'love']\n",
        "\n",
        "def max_seq(sent, n=2):\n",
        "    sent = re.sub(' +', ' ', sent)\n",
        "    clean_word_list = []\n",
        "    for text in sent.split(' '):\n",
        "        result = []\n",
        "        for k, g in itertools.groupby(text):\n",
        "            result.extend(list(g)[:n])\n",
        "        result = ''.join(result)\n",
        "        clean_word_list.append(result)\n",
        "    return ' '.join(clean_word_list)\n",
        "\n",
        "def clean_text(txt):\n",
        "    if isinstance(txt, type(np.nan)):\n",
        "        txt = ''\n",
        "    txt = txt.lower()\n",
        "    txt = max_seq(txt)        \n",
        "    txt = contractions.fix(txt, slang=True)        \n",
        "    txt = re.sub(r'[^a-zA-Z0-9 ]', ' ', txt)\n",
        "    txt = [word for word in word_tokenize(txt) if not Detector.is_gibberish(word)]\n",
        "    # txt = [lemmatizer.lemmatize(word) for word in word_tokenize(txt) if not Detector.is_gibberish(word)]\n",
        "    return ' '.join(txt)\n",
        "\n",
        "df['cleaned_text'] = df['content'].apply(clean_text)\n",
        "imp_reviews['cleaned_text'] = imp_reviews['content'].apply(clean_text)\n",
        "corpus = df['cleaned_text'].tolist()\n",
        "Y = np.array(df[labels])\n",
        "len(df)"
      ],
      "metadata": {
        "id": "sb-fOydFPUFJ",
        "colab": {
          "base_uri": "https://localhost:8080/"
        },
        "outputId": "c9a09fe9-42a4-4af6-84a2-68e2769be166"
      },
      "execution_count": 27,
      "outputs": [
        {
          "output_type": "execute_result",
          "data": {
            "text/plain": [
              "3379"
            ]
          },
          "metadata": {},
          "execution_count": 27
        }
      ]
    },
    {
      "cell_type": "code",
      "source": [
        "train_corpus, test_corpus, y_train, y_test = train_test_split(corpus, Y, test_size = 0.3, random_state = 1)\n",
        "print(y_train.shape, y_test.shape)\n",
        "train_corpus.extend(imp_reviews['cleaned_text'].tolist())\n",
        "y_train = np.vstack((y_train, np.array(imp_reviews[labels])))\n",
        "print(y_train.shape, y_test.shape)"
      ],
      "metadata": {
        "colab": {
          "base_uri": "https://localhost:8080/"
        },
        "id": "hHYTKDifPVch",
        "outputId": "6c8428b2-3301-4d35-fd26-8d5c20df38e6"
      },
      "execution_count": 28,
      "outputs": [
        {
          "output_type": "stream",
          "name": "stdout",
          "text": [
            "(2365, 6) (1014, 6)\n",
            "(2923, 6) (1014, 6)\n"
          ]
        }
      ]
    },
    {
      "cell_type": "code",
      "source": [
        "train_vectors = model.encode(train_corpus)\n",
        "test_vectors = model.encode(test_corpus)\n",
        "\n",
        "print(train_vectors.shape, test_vectors.shape)"
      ],
      "metadata": {
        "colab": {
          "base_uri": "https://localhost:8080/"
        },
        "id": "aDP3-U28Prh3",
        "outputId": "55412a9b-1df3-49a8-c12d-ea8583558907"
      },
      "execution_count": 29,
      "outputs": [
        {
          "output_type": "stream",
          "name": "stdout",
          "text": [
            "(2923, 384) (1014, 384)\n"
          ]
        }
      ]
    },
    {
      "cell_type": "code",
      "source": [
        "type(train_vectors)"
      ],
      "metadata": {
        "colab": {
          "base_uri": "https://localhost:8080/"
        },
        "id": "YATM2r_fPtBH",
        "outputId": "d32965dd-eaaa-48e0-c05b-88f4753caab3"
      },
      "execution_count": 30,
      "outputs": [
        {
          "output_type": "execute_result",
          "data": {
            "text/plain": [
              "numpy.ndarray"
            ]
          },
          "metadata": {},
          "execution_count": 30
        }
      ]
    },
    {
      "cell_type": "markdown",
      "source": [
        "# Model Training"
      ],
      "metadata": {
        "id": "7t3LzQTmPvNs"
      }
    },
    {
      "cell_type": "code",
      "source": [
        "import os\n",
        "import torch\n",
        "from torch import nn\n",
        "import torch.nn.functional as F\n",
        "import torch.optim as optim\n",
        "from torch.utils.data import TensorDataset, DataLoader\n",
        "\n",
        "# device = torch.device(\"cuda:0\")"
      ],
      "metadata": {
        "id": "_seJQSoqPuSs"
      },
      "execution_count": 31,
      "outputs": []
    },
    {
      "cell_type": "code",
      "source": [
        "def macro_soft_f1(y, y_hat):\n",
        "    \"\"\"Compute the macro soft F1-score as a cost.\n",
        "    Average (1 - soft-F1) across all labels.\n",
        "    Use probability values instead of binary predictions.\n",
        "    \n",
        "    Args:\n",
        "        y (int32 Tensor): targets array of shape (BATCH_SIZE, N_LABELS)\n",
        "        y_hat (float32 Tensor): probability matrix of shape (BATCH_SIZE, N_LABELS)\n",
        "        \n",
        "    Returns:\n",
        "        cost (scalar Tensor): value of the cost function for the batch\n",
        "    \"\"\"\n",
        "    \n",
        "    y = y.type(torch.float32)\n",
        "    y_hat = y_hat.type(torch.float32)\n",
        "    tp = torch.sum(y_hat * y, dim = 0)\n",
        "    fp = torch.sum(y_hat * (1 - y), dim=0)\n",
        "    fn = torch.sum((1 - y_hat) * y, dim=0)\n",
        "    soft_f1 = 2*tp / (2*tp + fn + fp + 1e-16)\n",
        "    cost = 1 - soft_f1 # reduce 1 - soft-f1 in order to increase soft-f1\n",
        "    macro_cost = torch.mean(cost) # average on all labels\n",
        "    \n",
        "    return macro_cost\n",
        "\n",
        "def macro_f1(y, y_hat, thresh=0.5):\n",
        "    \"\"\"Compute the macro F1-score on a batch of observations (average F1 across labels)\n",
        "    \n",
        "    Args:\n",
        "        y (int32 Tensor): labels array of shape (BATCH_SIZE, N_LABELS)\n",
        "        y_hat (float32 Tensor): probability matrix from forward propagation of shape (BATCH_SIZE, N_LABELS)\n",
        "        thresh: probability value above which we predict positive\n",
        "        \n",
        "    Returns:\n",
        "        macro_f1 (scalar Tensor): value of macro F1 for the batch\n",
        "    \"\"\"\n",
        "    y_pred = (y_hat>thresh).type(torch.float32)\n",
        "    tp = torch.sum(y_hat * y, dim = 0)\n",
        "    fp = torch.sum(y_hat * (1 - y), dim=0)\n",
        "    fn = torch.sum((1 - y_hat) * y, dim=0)\n",
        "    return tp, fp, fn"
      ],
      "metadata": {
        "id": "RJTdxtmQOfl9"
      },
      "execution_count": 32,
      "outputs": []
    },
    {
      "cell_type": "code",
      "source": [
        "X_train, y_train = torch.tensor(train_vectors).float(), torch.tensor(y_train).float()\n",
        "X_test, y_test = torch.tensor(test_vectors).float(), torch.tensor(y_test).float()\n",
        "\n",
        "train_data = TensorDataset(X_train, y_train)\n",
        "test_data = TensorDataset(X_test, y_test)\n",
        "\n",
        "trainset = DataLoader(train_data, batch_size = 64, shuffle = True)\n",
        "testset = DataLoader(test_data, batch_size = 64, shuffle = False)"
      ],
      "metadata": {
        "id": "NEe5RmpkPyzq"
      },
      "execution_count": 33,
      "outputs": []
    },
    {
      "cell_type": "code",
      "source": [
        "class Net(nn.Module):\n",
        "    def __init__(self, input_size):\n",
        "        super().__init__()\n",
        "        self.layers = nn.Sequential(\n",
        "            nn.Linear(input_size, 16),\n",
        "            nn.BatchNorm1d(16),\n",
        "            nn.LeakyReLU(),\n",
        "            nn.Linear(16,8),\n",
        "            nn.BatchNorm1d(8),\n",
        "            nn.LeakyReLU(),\n",
        "            nn.Linear(8,6)\n",
        "        )\n",
        "        \n",
        "    def forward(self, x):\n",
        "        x = self.layers(x)\n",
        "        return torch.sigmoid(x)"
      ],
      "metadata": {
        "id": "koXdPlgzOVLu"
      },
      "execution_count": 34,
      "outputs": []
    },
    {
      "cell_type": "code",
      "source": [
        "net = Net(train_vectors.shape[1])\n",
        "print(net)"
      ],
      "metadata": {
        "colab": {
          "base_uri": "https://localhost:8080/"
        },
        "id": "kVzvhZ1SLMf2",
        "outputId": "896c3726-52d6-4ff8-86cc-3f28bb1c7167"
      },
      "execution_count": 35,
      "outputs": [
        {
          "output_type": "stream",
          "name": "stdout",
          "text": [
            "Net(\n",
            "  (layers): Sequential(\n",
            "    (0): Linear(in_features=384, out_features=16, bias=True)\n",
            "    (1): BatchNorm1d(16, eps=1e-05, momentum=0.1, affine=True, track_running_stats=True)\n",
            "    (2): LeakyReLU(negative_slope=0.01)\n",
            "    (3): Linear(in_features=16, out_features=8, bias=True)\n",
            "    (4): BatchNorm1d(8, eps=1e-05, momentum=0.1, affine=True, track_running_stats=True)\n",
            "    (5): LeakyReLU(negative_slope=0.01)\n",
            "    (6): Linear(in_features=8, out_features=6, bias=True)\n",
            "  )\n",
            ")\n"
          ]
        }
      ]
    },
    {
      "cell_type": "code",
      "source": [
        "best_val_acc = 0.0"
      ],
      "metadata": {
        "id": "-41IrYMWdy4Q"
      },
      "execution_count": 36,
      "outputs": []
    },
    {
      "cell_type": "code",
      "source": [
        "filepath = '/content/drive/MyDrive/Reviews_data/labelled_reviews/models/clf1.pth'\n",
        "training_history = []\n",
        "validation_history = []\n",
        "training_acc = []\n",
        "validation_acc = []\n",
        "optimizer = optim.Adam(net.parameters(), lr=1e-4, weight_decay=1e-3) #lr = learning rate\n",
        "# criterion = nn.BCELoss()\n",
        "criterion = macro_soft_f1\n",
        "EPOCHS = 200\n",
        "cnt = 0\n",
        "thresh = 0.5\n",
        "for epoch in range(EPOCHS):\n",
        "    cnt+=1\n",
        "    train_loss = 0.0\n",
        "    for data in trainset:\n",
        "        #data is a batch of featuresets and labels\n",
        "        X, y = data  \n",
        "        net.zero_grad()\n",
        "        output = net(X)\n",
        "        loss = criterion(output, y)\n",
        "        loss.backward()\n",
        "        optimizer.step()\n",
        "        train_loss += loss.item()\n",
        "    training_history.append(train_loss/len(trainset))\n",
        "    \n",
        "    val_loss = 0.0\n",
        "    with torch.no_grad():\n",
        "        #calculate loss and f1 score on validation set\n",
        "        tp, fp, fn = 0.0, 0.0, 0.0\n",
        "        for data in testset:\n",
        "            X, y = data  \n",
        "            output = net(X)\n",
        "            loss = criterion(output, y)\n",
        "            val_loss += loss.item()\n",
        "            curr_tp, curr_fp, curr_fn = macro_f1(y, output, thresh)\n",
        "            tp += curr_tp\n",
        "            fp += curr_fp\n",
        "            fn += curr_fn\n",
        "        val_f1 = torch.mean(2*tp / (2*tp + fn + fp + 1e-16))\n",
        "        validation_acc.append(val_f1) #f1 score\n",
        "        validation_history.append(val_loss/len(testset))\n",
        "\n",
        "        #calculate f1 score on trainset\n",
        "        tp, fp, fn = 0.0, 0.0, 0.0\n",
        "        for data in trainset:\n",
        "            X, y = data\n",
        "            output = net(X)\n",
        "            curr_tp, curr_fp, curr_fn = macro_f1(y, output, thresh)\n",
        "            tp += curr_tp\n",
        "            fp += curr_fp\n",
        "            fn += curr_fn\n",
        "        train_f1 = torch.mean(2*tp / (2*tp + fn + fp + 1e-16))\n",
        "        training_acc.append(train_f1) #f1 score\n",
        "    if val_f1>=best_val_acc:\n",
        "        best_val_acc = val_f1\n",
        "        # torch.save(net.state_dict(), filepath) #uncomment to save the model\n",
        "    if cnt%10 == 0:\n",
        "        print(f'epoch: {cnt}, train loss: {train_loss/len(trainset):.{5}} and train f1: {train_f1:.{5}}; validation loss: {val_loss/len(testset):.{5}} and val f1: {val_f1:.{5}}')"
      ],
      "metadata": {
        "colab": {
          "base_uri": "https://localhost:8080/"
        },
        "id": "llsGiXLZUmhv",
        "outputId": "faf211bd-af46-4634-e3d5-8717138f990b"
      },
      "execution_count": 37,
      "outputs": [
        {
          "output_type": "stream",
          "name": "stdout",
          "text": [
            "epoch: 10, train loss: 0.30188 and train f1: 0.7478; validation loss: 0.41892 and val f1: 0.60062\n",
            "epoch: 20, train loss: 0.25363 and train f1: 0.76138; validation loss: 0.42496 and val f1: 0.59798\n",
            "epoch: 30, train loss: 0.25981 and train f1: 0.7807; validation loss: 0.41766 and val f1: 0.59817\n",
            "epoch: 40, train loss: 0.25179 and train f1: 0.77865; validation loss: 0.42515 and val f1: 0.60345\n",
            "epoch: 50, train loss: 0.23624 and train f1: 0.79359; validation loss: 0.42052 and val f1: 0.60413\n",
            "epoch: 60, train loss: 0.25439 and train f1: 0.78746; validation loss: 0.42783 and val f1: 0.58833\n",
            "epoch: 70, train loss: 0.23838 and train f1: 0.79223; validation loss: 0.43741 and val f1: 0.58499\n",
            "epoch: 80, train loss: 0.23496 and train f1: 0.79983; validation loss: 0.41202 and val f1: 0.61193\n",
            "epoch: 90, train loss: 0.23878 and train f1: 0.79485; validation loss: 0.40329 and val f1: 0.62419\n",
            "epoch: 100, train loss: 0.23349 and train f1: 0.79094; validation loss: 0.4321 and val f1: 0.59099\n",
            "epoch: 110, train loss: 0.23082 and train f1: 0.78789; validation loss: 0.41216 and val f1: 0.6133\n",
            "epoch: 120, train loss: 0.23474 and train f1: 0.79889; validation loss: 0.402 and val f1: 0.62932\n",
            "epoch: 130, train loss: 0.238 and train f1: 0.782; validation loss: 0.43655 and val f1: 0.59241\n",
            "epoch: 140, train loss: 0.22701 and train f1: 0.79719; validation loss: 0.41437 and val f1: 0.60926\n",
            "epoch: 150, train loss: 0.24482 and train f1: 0.79321; validation loss: 0.41342 and val f1: 0.61091\n",
            "epoch: 160, train loss: 0.23607 and train f1: 0.79448; validation loss: 0.42421 and val f1: 0.60348\n",
            "epoch: 170, train loss: 0.23036 and train f1: 0.79602; validation loss: 0.4065 and val f1: 0.61484\n",
            "epoch: 180, train loss: 0.22983 and train f1: 0.79722; validation loss: 0.42276 and val f1: 0.60923\n",
            "epoch: 190, train loss: 0.22656 and train f1: 0.79851; validation loss: 0.41328 and val f1: 0.61074\n",
            "epoch: 200, train loss: 0.23636 and train f1: 0.79295; validation loss: 0.42132 and val f1: 0.60047\n"
          ]
        }
      ]
    },
    {
      "cell_type": "code",
      "source": [
        "fig, ax = plt.subplots(1,2, figsize = (10,4))\n",
        "ax[0].set_title(\"Loss\")\n",
        "ax[0].plot(training_history)\n",
        "ax[0].plot(validation_history)\n",
        "\n",
        "ax[1].set_title(\"Accuracy\")\n",
        "ax[1].plot(training_acc)\n",
        "ax[1].plot(validation_acc)\n",
        "# plt.savefig('/content/drive/MyDrive/Reviews_data/labelled_reviews/models/2.0/loss.png')"
      ],
      "metadata": {
        "colab": {
          "base_uri": "https://localhost:8080/",
          "height": 298
        },
        "id": "4BK8anISpBsw",
        "outputId": "4b8be529-9861-448c-f586-9e83b49ac9f5"
      },
      "execution_count": 38,
      "outputs": [
        {
          "output_type": "execute_result",
          "data": {
            "text/plain": [
              "[<matplotlib.lines.Line2D at 0x7fb0590a7690>]"
            ]
          },
          "metadata": {},
          "execution_count": 38
        },
        {
          "output_type": "display_data",
          "data": {
            "text/plain": [
              "<Figure size 720x288 with 2 Axes>"
            ],
            "image/png": "[encoded data removed]"
          },
          "metadata": {
            "needs_background": "light"
          }
        }
      ]
    },
    {
      "cell_type": "code",
      "source": [
        "best_val_acc"
      ],
      "metadata": {
        "colab": {
          "base_uri": "https://localhost:8080/"
        },
        "id": "vN-5VarReIKr",
        "outputId": "ac098b74-9f83-4983-be2d-13454fd34ad2"
      },
      "execution_count": 39,
      "outputs": [
        {
          "output_type": "execute_result",
          "data": {
            "text/plain": [
              "tensor(0.6293)"
            ]
          },
          "metadata": {},
          "execution_count": 39
        }
      ]
    },
    {
      "cell_type": "markdown",
      "source": [
        "## Evaluation"
      ],
      "metadata": {
        "id": "5TUi8Yv8P6sT"
      }
    },
    {
      "cell_type": "code",
      "source": [
        "# filepath = '/content/drive/MyDrive/Reviews_data/labelled_reviews/models/clf.pth'\n",
        "# net = Net(train_vectors.shape[1])\n",
        "# net.load_state_dict(torch.load(filepath))\n",
        "# thresh = 0.5"
      ],
      "metadata": {
        "id": "j9UgcAi5KYWD"
      },
      "execution_count": 40,
      "outputs": []
    },
    {
      "cell_type": "code",
      "source": [
        "outputs_train = net(X_train)\n",
        "outputs_train = (outputs_train>thresh).float()\n",
        "for i, label in enumerate(labels):\n",
        "    print(label)\n",
        "    print(confusion_matrix(y_train[:,i], outputs_train[:,i]), '\\n')"
      ],
      "metadata": {
        "id": "_l_tcmryP8xn",
        "colab": {
          "base_uri": "https://localhost:8080/"
        },
        "outputId": "150f7ee6-9022-4d17-85c1-ee9c109d7aa7"
      },
      "execution_count": 41,
      "outputs": [
        {
          "output_type": "stream",
          "name": "stdout",
          "text": [
            "Functionality\n",
            "[[2503   39]\n",
            " [  98  283]] \n",
            "\n",
            "User Experience\n",
            "[[2199  132]\n",
            " [ 114  478]] \n",
            "\n",
            "Performance\n",
            "[[2456   37]\n",
            " [  84  346]] \n",
            "\n",
            "Customer Support\n",
            "[[2591   33]\n",
            " [  69  230]] \n",
            "\n",
            "Subscription\n",
            "[[2796   11]\n",
            " [  18   98]] \n",
            "\n",
            "Feature Request\n",
            "[[2536   26]\n",
            " [  70  291]] \n",
            "\n"
          ]
        }
      ]
    },
    {
      "cell_type": "code",
      "source": [
        "outputs_test = net(X_test)\n",
        "outputs_test = (outputs_test>thresh).float()\n",
        "for i, label in enumerate(labels):\n",
        "    print(label)\n",
        "    print(confusion_matrix(y_test[:,i], outputs_test[:,i]), '\\n')"
      ],
      "metadata": {
        "colab": {
          "base_uri": "https://localhost:8080/"
        },
        "id": "ipD4QvX2P92e",
        "outputId": "a13c83d3-5d92-42ff-a837-f68ea317992b"
      },
      "execution_count": 42,
      "outputs": [
        {
          "output_type": "stream",
          "name": "stdout",
          "text": [
            "Functionality\n",
            "[[848  41]\n",
            " [ 57  68]] \n",
            "\n",
            "User Experience\n",
            "[[723  88]\n",
            " [ 68 135]] \n",
            "\n",
            "Performance\n",
            "[[847  50]\n",
            " [ 45  72]] \n",
            "\n",
            "Customer Support\n",
            "[[914  22]\n",
            " [ 35  43]] \n",
            "\n",
            "Subscription\n",
            "[[983   8]\n",
            " [  8  15]] \n",
            "\n",
            "Feature Request\n",
            "[[894  33]\n",
            " [ 28  59]] \n",
            "\n"
          ]
        }
      ]
    },
    {
      "cell_type": "code",
      "source": [
        "idxs_pred = np.where(outputs_test==1)\n",
        "idxs_actual = np.where(y_test==1)"
      ],
      "metadata": {
        "id": "Nkp3oGCtoqQm"
      },
      "execution_count": 18,
      "outputs": []
    },
    {
      "cell_type": "code",
      "source": [
        "predicted_labels = [[] for _ in X_test]\n",
        "for i in range(len(idxs_pred[0])):\n",
        "  predicted_labels[idxs_pred[0][i]].append(labels[idxs_pred[1][i]])\n",
        "\n",
        "actual_labels = [[] for _ in X_test]\n",
        "for i in range(len(idxs_actual[0])):\n",
        "  actual_labels[idxs_actual[0][i]].append(labels[idxs_actual[1][i]])\n"
      ],
      "metadata": {
        "id": "oRx-6ZV7rEwX"
      },
      "execution_count": 19,
      "outputs": []
    },
    {
      "cell_type": "code",
      "source": [
        "df_test = pd.DataFrame({'cleaned_text': test_corpus, 'actual_labels': actual_labels, 'predicted_labels': predicted_labels})\n",
        "df_test"
      ],
      "metadata": {
        "colab": {
          "base_uri": "https://localhost:8080/",
          "height": 424
        },
        "id": "cE0UlpO4r3gb",
        "outputId": "238cd77d-c3f2-4e87-e44e-648809c4d812"
      },
      "execution_count": 20,
      "outputs": [
        {
          "output_type": "execute_result",
          "data": {
            "text/plain": [
              "                                           cleaned_text  \\\n",
              "0                                              nice app   \n",
              "1                                                 ideal   \n",
              "2     after testing several alarm clock apps i have ...   \n",
              "3                                         too many adds   \n",
              "4                                              very bad   \n",
              "...                                                 ...   \n",
              "1009                                               good   \n",
              "1010           beautiful very beautiful and what i want   \n",
              "1011  application is good but ads disturb your calcu...   \n",
              "1012                                              great   \n",
              "1013                                                      \n",
              "\n",
              "                         actual_labels                  predicted_labels  \n",
              "0                                   []                                []  \n",
              "1                                   []                                []  \n",
              "2     [Functionality, User Experience]  [Functionality, User Experience]  \n",
              "3                    [User Experience]                 [User Experience]  \n",
              "4                                   []                                []  \n",
              "...                                ...                               ...  \n",
              "1009                                []                                []  \n",
              "1010                 [User Experience]                 [User Experience]  \n",
              "1011  [Functionality, User Experience]  [Functionality, User Experience]  \n",
              "1012                                []                                []  \n",
              "1013                                []                                []  \n",
              "\n",
              "[1014 rows x 3 columns]"
            ],
            "text/html": [
              "\n",
              "  <div id=\"df-02765b5b-2859-4eb0-8cad-481d2a591c85\">\n",
              "    <div class=\"colab-df-container\">\n",
              "      <div>\n",
              "<style scoped>\n",
              "    .dataframe tbody tr th:only-of-type {\n",
              "        vertical-align: middle;\n",
              "    }\n",
              "\n",
              "    .dataframe tbody tr th {\n",
              "        vertical-align: top;\n",
              "    }\n",
              "\n",
              "    .dataframe thead th {\n",
              "        text-align: right;\n",
              "    }\n",
              "</style>\n",
              "<table border=\"1\" class=\"dataframe\">\n",
              "  <thead>\n",
              "    <tr style=\"text-align: right;\">\n",
              "      <th></th>\n",
              "      <th>cleaned_text</th>\n",
              "      <th>actual_labels</th>\n",
              "      <th>predicted_labels</th>\n",
              "    </tr>\n",
              "  </thead>\n",
              "  <tbody>\n",
              "    <tr>\n",
              "      <th>0</th>\n",
              "      <td>nice app</td>\n",
              "      <td>[]</td>\n",
              "      <td>[]</td>\n",
              "    </tr>\n",
              "    <tr>\n",
              "      <th>1</th>\n",
              "      <td>ideal</td>\n",
              "      <td>[]</td>\n",
              "      <td>[]</td>\n",
              "    </tr>\n",
              "    <tr>\n",
              "      <th>2</th>\n",
              "      <td>after testing several alarm clock apps i have ...</td>\n",
              "      <td>[Functionality, User Experience]</td>\n",
              "      <td>[Functionality, User Experience]</td>\n",
              "    </tr>\n",
              "    <tr>\n",
              "      <th>3</th>\n",
              "      <td>too many adds</td>\n",
              "      <td>[User Experience]</td>\n",
              "      <td>[User Experience]</td>\n",
              "    </tr>\n",
              "    <tr>\n",
              "      <th>4</th>\n",
              "      <td>very bad</td>\n",
              "      <td>[]</td>\n",
              "      <td>[]</td>\n",
              "    </tr>\n",
              "    <tr>\n",
              "      <th>...</th>\n",
              "      <td>...</td>\n",
              "      <td>...</td>\n",
              "      <td>...</td>\n",
              "    </tr>\n",
              "    <tr>\n",
              "      <th>1009</th>\n",
              "      <td>good</td>\n",
              "      <td>[]</td>\n",
              "      <td>[]</td>\n",
              "    </tr>\n",
              "    <tr>\n",
              "      <th>1010</th>\n",
              "      <td>beautiful very beautiful and what i want</td>\n",
              "      <td>[User Experience]</td>\n",
              "      <td>[User Experience]</td>\n",
              "    </tr>\n",
              "    <tr>\n",
              "      <th>1011</th>\n",
              "      <td>application is good but ads disturb your calcu...</td>\n",
              "      <td>[Functionality, User Experience]</td>\n",
              "      <td>[Functionality, User Experience]</td>\n",
              "    </tr>\n",
              "    <tr>\n",
              "      <th>1012</th>\n",
              "      <td>great</td>\n",
              "      <td>[]</td>\n",
              "      <td>[]</td>\n",
              "    </tr>\n",
              "    <tr>\n",
              "      <th>1013</th>\n",
              "      <td></td>\n",
              "      <td>[]</td>\n",
              "      <td>[]</td>\n",
              "    </tr>\n",
              "  </tbody>\n",
              "</table>\n",
              "<p>1014 rows × 3 columns</p>\n",
              "</div>\n",
              "      <button class=\"colab-df-convert\" onclick=\"convertToInteractive('df-02765b5b-2859-4eb0-8cad-481d2a591c85')\"\n",
              "              title=\"Convert this dataframe to an interactive table.\"\n",
              "              style=\"display:none;\">\n",
              "        \n",
              "  <svg xmlns=\"http://www.w3.org/2000/svg\" height=\"24px\"viewBox=\"0 0 24 24\"\n",
              "       width=\"24px\">\n",
              "    <path d=\"M0 0h24v24H0V0z\" fill=\"none\"/>\n",
              "    <path d=\"M18.56 5.44l.94 2.06.94-2.06 2.06-.94-2.06-.94-.94-2.06-.94 2.06-2.06.94zm-11 1L8.5 8.5l.94-2.06 2.06-.94-2.06-.94L8.5 2.5l-.94 2.06-2.06.94zm10 10l.94 2.06.94-2.06 2.06-.94-2.06-.94-.94-2.06-.94 2.06-2.06.94z\"/><path d=\"M17.41 7.96l-1.37-1.37c-.4-.4-.92-.59-1.43-.59-.52 0-1.04.2-1.43.59L10.3 9.45l-7.72 7.72c-.78.78-.78 2.05 0 2.83L4 21.41c.39.39.9.59 1.41.59.51 0 1.02-.2 1.41-.59l7.78-7.78 2.81-2.81c.8-.78.8-2.07 0-2.86zM5.41 20L4 18.59l7.72-7.72 1.47 1.35L5.41 20z\"/>\n",
              "  </svg>\n",
              "      </button>\n",
              "      \n",
              "  <style>\n",
              "    .colab-df-container {\n",
              "      display:flex;\n",
              "      flex-wrap:wrap;\n",
              "      gap: 12px;\n",
              "    }\n",
              "\n",
              "    .colab-df-convert {\n",
              "      background-color: #E8F0FE;\n",
              "      border: none;\n",
              "      border-radius: 50%;\n",
              "      cursor: pointer;\n",
              "      display: none;\n",
              "      fill: #1967D2;\n",
              "      height: 32px;\n",
              "      padding: 0 0 0 0;\n",
              "      width: 32px;\n",
              "    }\n",
              "\n",
              "    .colab-df-convert:hover {\n",
              "      background-color: #E2EBFA;\n",
              "      box-shadow: 0px 1px 2px rgba(60, 64, 67, 0.3), 0px 1px 3px 1px rgba(60, 64, 67, 0.15);\n",
              "      fill: #174EA6;\n",
              "    }\n",
              "\n",
              "    [theme=dark] .colab-df-convert {\n",
              "      background-color: #3B4455;\n",
              "      fill: #D2E3FC;\n",
              "    }\n",
              "\n",
              "    [theme=dark] .colab-df-convert:hover {\n",
              "      background-color: #434B5C;\n",
              "      box-shadow: 0px 1px 3px 1px rgba(0, 0, 0, 0.15);\n",
              "      filter: drop-shadow(0px 1px 2px rgba(0, 0, 0, 0.3));\n",
              "      fill: #FFFFFF;\n",
              "    }\n",
              "  </style>\n",
              "\n",
              "      <script>\n",
              "        const buttonEl =\n",
              "          document.querySelector('#df-02765b5b-2859-4eb0-8cad-481d2a591c85 button.colab-df-convert');\n",
              "        buttonEl.style.display =\n",
              "          google.colab.kernel.accessAllowed ? 'block' : 'none';\n",
              "\n",
              "        async function convertToInteractive(key) {\n",
              "          const element = document.querySelector('#df-02765b5b-2859-4eb0-8cad-481d2a591c85');\n",
              "          const dataTable =\n",
              "            await google.colab.kernel.invokeFunction('convertToInteractive',\n",
              "                                                     [key], {});\n",
              "          if (!dataTable) return;\n",
              "\n",
              "          const docLinkHtml = 'Like what you see? Visit the ' +\n",
              "            '<a target=\"_blank\" href=https://colab.research.google.com/notebooks/data_table.ipynb>data table notebook</a>'\n",
              "            + ' to learn more about interactive tables.';\n",
              "          element.innerHTML = '';\n",
              "          dataTable['output_type'] = 'display_data';\n",
              "          await google.colab.output.renderOutput(dataTable, element);\n",
              "          const docLink = document.createElement('div');\n",
              "          docLink.innerHTML = docLinkHtml;\n",
              "          element.appendChild(docLink);\n",
              "        }\n",
              "      </script>\n",
              "    </div>\n",
              "  </div>\n",
              "  "
            ]
          },
          "metadata": {},
          "execution_count": 20
        }
      ]
    },
    {
      "cell_type": "code",
      "source": [],
      "metadata": {
        "id": "7e98H3Q6LFuB"
      },
      "execution_count": null,
      "outputs": []
    }
  ]
}
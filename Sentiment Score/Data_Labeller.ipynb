{
  "nbformat": 4,
  "nbformat_minor": 0,
  "metadata": {
    "colab": {
      "provenance": [],
      "collapsed_sections": []
    },
    "kernelspec": {
      "name": "python3",
      "display_name": "Python 3"
    },
    "language_info": {
      "name": "python"
    }
  },
  "cells": [
    {
      "cell_type": "code",
      "execution_count": 34,
      "metadata": {
        "colab": {
          "base_uri": "https://localhost:8080/"
        },
        "id": "Zz0P1U6CHZHJ",
        "outputId": "29773a28-5201-40c2-f10e-68e20d7177e1"
      },
      "outputs": [
        {
          "output_type": "stream",
          "name": "stdout",
          "text": [
            "Drive already mounted at /content/drive; to attempt to forcibly remount, call drive.mount(\"/content/drive\", force_remount=True).\n"
          ]
        }
      ],
      "source": [
        "#mount drive\n",
        "from google.colab import drive\n",
        "drive.mount('/content/drive')"
      ]
    },
    {
      "cell_type": "code",
      "source": [
        "# !pip install sentence-transformers\n",
        "# !pip install contractions\n",
        "# !pip install gibberish_detector"
      ],
      "metadata": {
        "id": "GRoCmJzpHdU4"
      },
      "execution_count": 35,
      "outputs": []
    },
    {
      "cell_type": "code",
      "source": [
        "import os\n",
        "import numpy as np\n",
        "import pandas as pd\n",
        "import matplotlib.pyplot as plt\n",
        "\n",
        "from sklearn.model_selection import train_test_split\n",
        "from sklearn.feature_extraction.text import TfidfVectorizer, CountVectorizer\n",
        "from sklearn.metrics import confusion_matrix, plot_confusion_matrix\n",
        "\n",
        "import nltk\n",
        "from nltk.stem import WordNetLemmatizer, PorterStemmer\n",
        "from nltk.corpus import stopwords\n",
        "from nltk.corpus import wordnet as wn\n",
        "from nltk.tokenize import word_tokenize,sent_tokenize\n",
        "\n",
        "import contractions\n",
        "from gibberish_detector import detector\n",
        "\n",
        "import re\n",
        "from tqdm import tqdm\n",
        "import pkg_resources\n",
        "import itertools\n",
        "\n",
        "import torch\n",
        "from torch import nn\n",
        "import torch.nn.functional as F\n",
        "import torch.optim as optim\n",
        "from torch.utils.data import TensorDataset, DataLoader\n",
        "\n",
        "from sentence_transformers import SentenceTransformer\n",
        "\n",
        "model = SentenceTransformer('all-MiniLM-L6-v2')\n",
        "nltk.download('wordnet')\n",
        "nltk.download('omw-1.4')\n",
        "nltk.download('stopwords')\n",
        "nltk.download('punkt')\n",
        "\n",
        "Detector = detector.create_from_model('/content/drive/MyDrive/Sentiment_Analysis/gibberish-detector.model')\n",
        "\n",
        "thresh = 0.5\n",
        "labels = ['Functionality', 'User Experience', 'Performance', 'Customer Support', 'Subscription', 'Feature Request']"
      ],
      "metadata": {
        "colab": {
          "base_uri": "https://localhost:8080/"
        },
        "id": "D6RRVpzcHgbD",
        "outputId": "a51a00d0-ff6a-4ae6-c7e9-13d102b2d67f"
      },
      "execution_count": 36,
      "outputs": [
        {
          "output_type": "stream",
          "name": "stderr",
          "text": [
            "[nltk_data] Downloading package wordnet to /root/nltk_data...\n",
            "[nltk_data]   Package wordnet is already up-to-date!\n",
            "[nltk_data] Downloading package omw-1.4 to /root/nltk_data...\n",
            "[nltk_data]   Package omw-1.4 is already up-to-date!\n",
            "[nltk_data] Downloading package stopwords to /root/nltk_data...\n",
            "[nltk_data]   Package stopwords is already up-to-date!\n",
            "[nltk_data] Downloading package punkt to /root/nltk_data...\n",
            "[nltk_data]   Package punkt is already up-to-date!\n"
          ]
        }
      ]
    },
    {
      "cell_type": "code",
      "source": [
        "lemmatizer = WordNetLemmatizer()\n",
        "\n",
        "#Text Cleaning\n",
        "def max_seq(sent, n=2):\n",
        "    sent = re.sub(' +', ' ', sent)\n",
        "    clean_word_list = []\n",
        "    for text in sent.split(' '):\n",
        "        result = []\n",
        "        for k, g in itertools.groupby(text):\n",
        "            result.extend(list(g)[:n])\n",
        "        result = ''.join(result)\n",
        "        clean_word_list.append(result)\n",
        "    return ' '.join(clean_word_list)\n",
        "\n",
        "def clean_text(txt):\n",
        "    if isinstance(txt, type(np.nan)):\n",
        "        txt = ''\n",
        "    txt = txt.lower()\n",
        "    txt = max_seq(txt)        \n",
        "    txt = contractions.fix(txt, slang=True)        \n",
        "    txt = re.sub(r'[^a-zA-Z0-9 ]', ' ', txt)\n",
        "    txt = [word for word in word_tokenize(txt) if not Detector.is_gibberish(word)]\n",
        "    return ' '.join(txt)"
      ],
      "metadata": {
        "id": "-r8ayCXYHuaY"
      },
      "execution_count": 40,
      "outputs": []
    },
    {
      "cell_type": "code",
      "source": [
        "#Classifier Structure\n",
        "class Net(nn.Module):\n",
        "    def __init__(self, input_size):\n",
        "        super().__init__()\n",
        "        self.layers = nn.Sequential(\n",
        "            nn.Linear(input_size, 16),\n",
        "            nn.BatchNorm1d(16),\n",
        "            nn.LeakyReLU(),\n",
        "            nn.Linear(16,8),\n",
        "            nn.BatchNorm1d(8),\n",
        "            nn.LeakyReLU(),\n",
        "            nn.Linear(8,6)\n",
        "        )\n",
        "        \n",
        "    def forward(self, x):\n",
        "        x = self.layers(x)\n",
        "        return torch.sigmoid(x)"
      ],
      "metadata": {
        "id": "CdajygiFIBCd"
      },
      "execution_count": 41,
      "outputs": []
    },
    {
      "cell_type": "code",
      "source": [
        "#loading the classifier\n",
        "filepath = '/content/drive/MyDrive/Reviews_data/labelled_reviews/models/clf.pth'\n",
        "net = Net(model.encode(['']).shape[1])\n",
        "net.load_state_dict(torch.load(filepath))"
      ],
      "metadata": {
        "colab": {
          "base_uri": "https://localhost:8080/"
        },
        "id": "skG2MKvmIkI1",
        "outputId": "ba442a45-c65c-4225-cb69-f9666bf44412"
      },
      "execution_count": 42,
      "outputs": [
        {
          "output_type": "execute_result",
          "data": {
            "text/plain": [
              "<All keys matched successfully>"
            ]
          },
          "metadata": {},
          "execution_count": 42
        }
      ]
    },
    {
      "cell_type": "code",
      "source": [
        "df = pd.read_csv('/content/drive/MyDrive/Dashboard/Data/com.cama.app.huge80sclock.csv')\n",
        "corpus = df['en_content'].apply(clean_text) #clean text\n",
        "\n",
        "#encode vectors\n",
        "vectors = model.encode(corpus.tolist())\n",
        "vectors = torch.tensor(vectors).float()\n",
        "\n",
        "#predict labels\n",
        "outputs = net(vectors)\n",
        "outputs = (outputs>thresh).float()"
      ],
      "metadata": {
        "id": "iYZds4YSICtN"
      },
      "execution_count": 43,
      "outputs": []
    },
    {
      "cell_type": "code",
      "source": [
        "for i, label in enumerate(labels):\n",
        "    df[label] = outputs[:,i].int()\n",
        "\n",
        "df.head()"
      ],
      "metadata": {
        "colab": {
          "base_uri": "https://localhost:8080/",
          "height": 565
        },
        "id": "MPH7VXxqIfRm",
        "outputId": "6cdc005d-3e09-4ae2-b72e-b69ecc39912f"
      },
      "execution_count": 44,
      "outputs": [
        {
          "output_type": "execute_result",
          "data": {
            "text/plain": [
              "                               reviewId  \\\n",
              "0  e0a68a14-5434-41a9-9bf7-c0d9ddebb34a   \n",
              "1  6978712c-2eba-4d8e-a2d1-fa88918b538d   \n",
              "2  b5ae1ff1-e7f8-4f6e-92f6-3fed68c63140   \n",
              "3  8c545564-0f31-4917-b8c4-20734a6e7fa5   \n",
              "4  d3015bbd-fa05-4d67-b2bd-0fc725b0289e   \n",
              "\n",
              "                                             content  rating  thumbsUpCount  \\\n",
              "0                                               Cool       5              0   \n",
              "1   Togliete la status bar del cellulare in alto....       2              0   \n",
              "2                                          Bella app       5              1   \n",
              "3                               Molto bello e carino       5              1   \n",
              "4  App accettabile, sarebbe gradito che il piccol...       3              0   \n",
              "\n",
              "  reviewCreatedVersion                   at  \\\n",
              "0                  1.1  2018-08-25 19:23:16   \n",
              "1                  1.2  2018-09-23 12:31:36   \n",
              "2                  NaN  2018-10-04 12:55:42   \n",
              "3                1.3.3  2018-10-10 18:28:10   \n",
              "4                1.3.3  2018-10-12 18:16:06   \n",
              "\n",
              "                                          en_content  sr_combined_scaled  \\\n",
              "0                                               Cool               3.182   \n",
              "1   Remove the cell phone status bar at the top ....               0.000   \n",
              "2                                      Beautiful app               5.994   \n",
              "3                                 Very nice and cute               7.474   \n",
              "4  Acceptable app, it would be appreciated if the...               0.000   \n",
              "\n",
              "   polarity score  Functionality  User Experience  Performance  \\\n",
              "0          0.3182              0                0            0   \n",
              "1          0.2023              0                1            0   \n",
              "2          0.5994              0                1            1   \n",
              "3          0.7474              0                1            0   \n",
              "4          0.8442              0                0            0   \n",
              "\n",
              "   Customer Support  Subscription  Feature Request  \n",
              "0                 0             0                0  \n",
              "1                 1             0                1  \n",
              "2                 0             0                0  \n",
              "3                 0             0                0  \n",
              "4                 0             0                1  "
            ],
            "text/html": [
              "\n",
              "  <div id=\"df-a4e29648-b492-468b-8214-bf9b6aa2db25\">\n",
              "    <div class=\"colab-df-container\">\n",
              "      <div>\n",
              "<style scoped>\n",
              "    .dataframe tbody tr th:only-of-type {\n",
              "        vertical-align: middle;\n",
              "    }\n",
              "\n",
              "    .dataframe tbody tr th {\n",
              "        vertical-align: top;\n",
              "    }\n",
              "\n",
              "    .dataframe thead th {\n",
              "        text-align: right;\n",
              "    }\n",
              "</style>\n",
              "<table border=\"1\" class=\"dataframe\">\n",
              "  <thead>\n",
              "    <tr style=\"text-align: right;\">\n",
              "      <th></th>\n",
              "      <th>reviewId</th>\n",
              "      <th>content</th>\n",
              "      <th>rating</th>\n",
              "      <th>thumbsUpCount</th>\n",
              "      <th>reviewCreatedVersion</th>\n",
              "      <th>at</th>\n",
              "      <th>en_content</th>\n",
              "      <th>sr_combined_scaled</th>\n",
              "      <th>polarity score</th>\n",
              "      <th>Functionality</th>\n",
              "      <th>User Experience</th>\n",
              "      <th>Performance</th>\n",
              "      <th>Customer Support</th>\n",
              "      <th>Subscription</th>\n",
              "      <th>Feature Request</th>\n",
              "    </tr>\n",
              "  </thead>\n",
              "  <tbody>\n",
              "    <tr>\n",
              "      <th>0</th>\n",
              "      <td>e0a68a14-5434-41a9-9bf7-c0d9ddebb34a</td>\n",
              "      <td>Cool</td>\n",
              "      <td>5</td>\n",
              "      <td>0</td>\n",
              "      <td>1.1</td>\n",
              "      <td>2018-08-25 19:23:16</td>\n",
              "      <td>Cool</td>\n",
              "      <td>3.182</td>\n",
              "      <td>0.3182</td>\n",
              "      <td>0</td>\n",
              "      <td>0</td>\n",
              "      <td>0</td>\n",
              "      <td>0</td>\n",
              "      <td>0</td>\n",
              "      <td>0</td>\n",
              "    </tr>\n",
              "    <tr>\n",
              "      <th>1</th>\n",
              "      <td>6978712c-2eba-4d8e-a2d1-fa88918b538d</td>\n",
              "      <td>Togliete la status bar del cellulare in alto....</td>\n",
              "      <td>2</td>\n",
              "      <td>0</td>\n",
              "      <td>1.2</td>\n",
              "      <td>2018-09-23 12:31:36</td>\n",
              "      <td>Remove the cell phone status bar at the top ....</td>\n",
              "      <td>0.000</td>\n",
              "      <td>0.2023</td>\n",
              "      <td>0</td>\n",
              "      <td>1</td>\n",
              "      <td>0</td>\n",
              "      <td>1</td>\n",
              "      <td>0</td>\n",
              "      <td>1</td>\n",
              "    </tr>\n",
              "    <tr>\n",
              "      <th>2</th>\n",
              "      <td>b5ae1ff1-e7f8-4f6e-92f6-3fed68c63140</td>\n",
              "      <td>Bella app</td>\n",
              "      <td>5</td>\n",
              "      <td>1</td>\n",
              "      <td>NaN</td>\n",
              "      <td>2018-10-04 12:55:42</td>\n",
              "      <td>Beautiful app</td>\n",
              "      <td>5.994</td>\n",
              "      <td>0.5994</td>\n",
              "      <td>0</td>\n",
              "      <td>1</td>\n",
              "      <td>1</td>\n",
              "      <td>0</td>\n",
              "      <td>0</td>\n",
              "      <td>0</td>\n",
              "    </tr>\n",
              "    <tr>\n",
              "      <th>3</th>\n",
              "      <td>8c545564-0f31-4917-b8c4-20734a6e7fa5</td>\n",
              "      <td>Molto bello e carino</td>\n",
              "      <td>5</td>\n",
              "      <td>1</td>\n",
              "      <td>1.3.3</td>\n",
              "      <td>2018-10-10 18:28:10</td>\n",
              "      <td>Very nice and cute</td>\n",
              "      <td>7.474</td>\n",
              "      <td>0.7474</td>\n",
              "      <td>0</td>\n",
              "      <td>1</td>\n",
              "      <td>0</td>\n",
              "      <td>0</td>\n",
              "      <td>0</td>\n",
              "      <td>0</td>\n",
              "    </tr>\n",
              "    <tr>\n",
              "      <th>4</th>\n",
              "      <td>d3015bbd-fa05-4d67-b2bd-0fc725b0289e</td>\n",
              "      <td>App accettabile, sarebbe gradito che il piccol...</td>\n",
              "      <td>3</td>\n",
              "      <td>0</td>\n",
              "      <td>1.3.3</td>\n",
              "      <td>2018-10-12 18:16:06</td>\n",
              "      <td>Acceptable app, it would be appreciated if the...</td>\n",
              "      <td>0.000</td>\n",
              "      <td>0.8442</td>\n",
              "      <td>0</td>\n",
              "      <td>0</td>\n",
              "      <td>0</td>\n",
              "      <td>0</td>\n",
              "      <td>0</td>\n",
              "      <td>1</td>\n",
              "    </tr>\n",
              "  </tbody>\n",
              "</table>\n",
              "</div>\n",
              "      <button class=\"colab-df-convert\" onclick=\"convertToInteractive('df-a4e29648-b492-468b-8214-bf9b6aa2db25')\"\n",
              "              title=\"Convert this dataframe to an interactive table.\"\n",
              "              style=\"display:none;\">\n",
              "        \n",
              "  <svg xmlns=\"http://www.w3.org/2000/svg\" height=\"24px\"viewBox=\"0 0 24 24\"\n",
              "       width=\"24px\">\n",
              "    <path d=\"M0 0h24v24H0V0z\" fill=\"none\"/>\n",
              "    <path d=\"M18.56 5.44l.94 2.06.94-2.06 2.06-.94-2.06-.94-.94-2.06-.94 2.06-2.06.94zm-11 1L8.5 8.5l.94-2.06 2.06-.94-2.06-.94L8.5 2.5l-.94 2.06-2.06.94zm10 10l.94 2.06.94-2.06 2.06-.94-2.06-.94-.94-2.06-.94 2.06-2.06.94z\"/><path d=\"M17.41 7.96l-1.37-1.37c-.4-.4-.92-.59-1.43-.59-.52 0-1.04.2-1.43.59L10.3 9.45l-7.72 7.72c-.78.78-.78 2.05 0 2.83L4 21.41c.39.39.9.59 1.41.59.51 0 1.02-.2 1.41-.59l7.78-7.78 2.81-2.81c.8-.78.8-2.07 0-2.86zM5.41 20L4 18.59l7.72-7.72 1.47 1.35L5.41 20z\"/>\n",
              "  </svg>\n",
              "      </button>\n",
              "      \n",
              "  <style>\n",
              "    .colab-df-container {\n",
              "      display:flex;\n",
              "      flex-wrap:wrap;\n",
              "      gap: 12px;\n",
              "    }\n",
              "\n",
              "    .colab-df-convert {\n",
              "      background-color: #E8F0FE;\n",
              "      border: none;\n",
              "      border-radius: 50%;\n",
              "      cursor: pointer;\n",
              "      display: none;\n",
              "      fill: #1967D2;\n",
              "      height: 32px;\n",
              "      padding: 0 0 0 0;\n",
              "      width: 32px;\n",
              "    }\n",
              "\n",
              "    .colab-df-convert:hover {\n",
              "      background-color: #E2EBFA;\n",
              "      box-shadow: 0px 1px 2px rgba(60, 64, 67, 0.3), 0px 1px 3px 1px rgba(60, 64, 67, 0.15);\n",
              "      fill: #174EA6;\n",
              "    }\n",
              "\n",
              "    [theme=dark] .colab-df-convert {\n",
              "      background-color: #3B4455;\n",
              "      fill: #D2E3FC;\n",
              "    }\n",
              "\n",
              "    [theme=dark] .colab-df-convert:hover {\n",
              "      background-color: #434B5C;\n",
              "      box-shadow: 0px 1px 3px 1px rgba(0, 0, 0, 0.15);\n",
              "      filter: drop-shadow(0px 1px 2px rgba(0, 0, 0, 0.3));\n",
              "      fill: #FFFFFF;\n",
              "    }\n",
              "  </style>\n",
              "\n",
              "      <script>\n",
              "        const buttonEl =\n",
              "          document.querySelector('#df-a4e29648-b492-468b-8214-bf9b6aa2db25 button.colab-df-convert');\n",
              "        buttonEl.style.display =\n",
              "          google.colab.kernel.accessAllowed ? 'block' : 'none';\n",
              "\n",
              "        async function convertToInteractive(key) {\n",
              "          const element = document.querySelector('#df-a4e29648-b492-468b-8214-bf9b6aa2db25');\n",
              "          const dataTable =\n",
              "            await google.colab.kernel.invokeFunction('convertToInteractive',\n",
              "                                                     [key], {});\n",
              "          if (!dataTable) return;\n",
              "\n",
              "          const docLinkHtml = 'Like what you see? Visit the ' +\n",
              "            '<a target=\"_blank\" href=https://colab.research.google.com/notebooks/data_table.ipynb>data table notebook</a>'\n",
              "            + ' to learn more about interactive tables.';\n",
              "          element.innerHTML = '';\n",
              "          dataTable['output_type'] = 'display_data';\n",
              "          await google.colab.output.renderOutput(dataTable, element);\n",
              "          const docLink = document.createElement('div');\n",
              "          docLink.innerHTML = docLinkHtml;\n",
              "          element.appendChild(docLink);\n",
              "        }\n",
              "      </script>\n",
              "    </div>\n",
              "  </div>\n",
              "  "
            ]
          },
          "metadata": {},
          "execution_count": 44
        }
      ]
    },
    {
      "cell_type": "code",
      "source": [
        "#df.to_csv('/content/drive/MyDrive/Dashboard/Data/com.cama.app.huge80sclock.predicted.csv', index=False)"
      ],
      "metadata": {
        "id": "W7V1W2wtJIdU"
      },
      "execution_count": 45,
      "outputs": []
    },
    {
      "cell_type": "code",
      "source": [],
      "metadata": {
        "id": "AZD-P39CJTic"
      },
      "execution_count": 28,
      "outputs": []
    },
    {
      "cell_type": "code",
      "source": [],
      "metadata": {
        "id": "2KM5xLFSJxPQ"
      },
      "execution_count": null,
      "outputs": []
    }
  ]
}